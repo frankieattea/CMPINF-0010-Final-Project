{
 "cells": [
  {
   "cell_type": "markdown",
   "id": "reported-facing",
   "metadata": {},
   "source": [
    "# City of Pittsburgh Trees"
   ]
  },
  {
   "cell_type": "code",
   "execution_count": 231,
   "id": "centered-impression",
   "metadata": {},
   "outputs": [
    {
     "name": "stdout",
     "output_type": "stream",
     "text": [
      "There are 235 different types of tress all over Pittsburgh\n",
      "\n",
      "The top 10 neighborhoods with the most trees are:\n"
     ]
    },
    {
     "data": {
      "text/plain": [
       "Squirrel Hill South          5073\n",
       "Highland Park                2941\n",
       "Squirrel Hill North          2083\n",
       "South Side Flats             1693\n",
       "Shadyside                    1558\n",
       "Bloomfield                   1436\n",
       "East Liberty                 1366\n",
       "Point Breeze                 1316\n",
       "Perry North                  1007\n",
       "Central Business District    1002\n",
       "Name: neighborhood, dtype: Int64"
      ]
     },
     "execution_count": 231,
     "metadata": {},
     "output_type": "execute_result"
    }
   ],
   "source": [
    "# load pandas \n",
    "import pandas as pd\n",
    "import numpy as np\n",
    "%matplotlib inline\n",
    "import matplotlib.pyplot as plt\n",
    "\n",
    "plt.rcParams.update({'font.size': 12})\n",
    "\n",
    "# load the tree data directly from the WPRDC and parse directly\n",
    "trees = pd.read_csv(\"https://data.wprdc.org/datastore/dump/1515a93c-73e3-4425-9b35-1cd11b2196da\",\n",
    "                           index_col=\"id\", dtype=\"string\") \n",
    "# Drop all the NA values\n",
    "trees[\"condition\"].dropna()\n",
    "trees[\"height\"].dropna()\n",
    "trees[\"neighborhood\"].dropna()\n",
    "trees[\"air_quality_benfits_total_dollar_value\"].dropna()\n",
    "trees[\"property_value_benefits_dollarvalue\"].dropna()\n",
    "trees[\"stormwater_benefits_dollar_value\"].dropna()\n",
    "\n",
    "# Get all the different types of trees \n",
    "type_trees = trees[\"common_name\"].unique()\n",
    "\n",
    "print(\"There are \" + str(len(type_trees)) + \" different types of tress all over Pittsburgh\")\n",
    "\n",
    "print(\"\\nThe top 10 neighborhoods with the most trees are:\")\n",
    "\n",
    "# Print the top 10 neighborhoods with the most trees\n",
    "trees[\"neighborhood\"].value_counts().head(10)"
   ]
  },
  {
   "cell_type": "markdown",
   "id": "unsigned-oliver",
   "metadata": {},
   "source": [
    "##### Now we know the top 10 neighborhoods in Pittsburgh with the most trees. We will now analyze the trees in these 10 neighborhoods more closely. "
   ]
  },
  {
   "cell_type": "code",
   "execution_count": 206,
   "id": "neutral-movement",
   "metadata": {},
   "outputs": [
    {
     "name": "stdout",
     "output_type": "stream",
     "text": [
      "Number of trees in good condition:  10729\n",
      "Number of trees in fair condition:  9812\n",
      "Number of trees in poor condition:  2274\n",
      "Number of trees in dead condition:  693\n",
      "Number of trees in critical condition:  703\n",
      "Number of trees in very good condition:  185\n",
      "Number of trees in very excellent condition:  46\n"
     ]
    },
    {
     "data": {
      "text/plain": [
       "Text(0.5, 1.0, 'Conditions of Trees in Pittsburgh')"
      ]
     },
     "execution_count": 206,
     "metadata": {},
     "output_type": "execute_result"
    },
    {
     "data": {
      "image/png": "[encoded data removed]",
      "text/plain": [
       "<Figure size 720x720 with 1 Axes>"
      ]
     },
     "metadata": {
      "needs_background": "light"
     },
     "output_type": "display_data"
    }
   ],
   "source": [
    "# Get number of total trees in each condition\n",
    "# Filter out trees that have not grown yet (recently planted) - these trees are however accounted for \n",
    "# to determine the neighborhoods with the most trees due to future growth\n",
    "\n",
    "t = trees.query('condition.str.contains(\"Good\") and not height.str.contains(\"0\") and not height.str.contains(\"None\")')\n",
    "tr = t.value_counts().size\n",
    "print(\"Number of trees in good condition: \", tr)\n",
    "\n",
    "t = trees.query('condition.str.contains(\"Fair\") and not height.str.contains(\"0\") and not height.str.contains(\"None\")')\n",
    "tr = t.value_counts().size\n",
    "print(\"Number of trees in fair condition: \", tr)\n",
    "\n",
    "t = trees.query('condition.str.contains(\"Poor\") and not height.str.contains(\"0\") and not height.str.contains(\"None\")')\n",
    "tr = t.value_counts().size\n",
    "print(\"Number of trees in poor condition: \", tr)\n",
    "\n",
    "t = trees.query('condition.str.contains(\"Dead\") and not height.str.contains(\"0\") and not height.str.contains(\"None\")')\n",
    "tr = t.value_counts().size\n",
    "print(\"Number of trees in dead condition: \", tr)\n",
    "\n",
    "t = trees.query('condition.str.contains(\"Critical\") and not height.str.contains(\"0\") and not height.str.contains(\"None\")')\n",
    "tr = t.value_counts().size\n",
    "print(\"Number of trees in critical condition: \", tr)\n",
    "\n",
    "t = trees.query('condition.str.contains(\"Very Good\") and not height.str.contains(\"0\") and not height.str.contains(\"None\")')\n",
    "tr = t.value_counts().size\n",
    "print(\"Number of trees in very good condition: \", tr)\n",
    "\n",
    "t = trees.query('condition.str.contains(\"Excellent\") and not height.str.contains(\"0\") and not height.str.contains(\"None\")')\n",
    "tr = t.value_counts().size\n",
    "print(\"Number of trees in very excellent condition: \", tr)\n",
    "\n",
    "# Create a bar graph for the condition of all the trees in Pittsburgh\n",
    "count = [10729, 9812, 2274, 693, 703, 185, 46]\n",
    "condition = ('Good','Fair','Poor', 'Dead', 'Critical', 'Very Good', 'Excellent')\n",
    "plt.figure(figsize=(10,10))\n",
    "plt.bar(condition, count, color=['green', 'limegreen', 'orange', 'black', 'red', 'darkgreen','gold'])\n",
    "plt.xlabel(\"Condition\")\n",
    "plt.xlabel(\"Number of Trees\")\n",
    "plt.title(\"Conditions of Trees in Pittsburgh\")"
   ]
  },
  {
   "cell_type": "markdown",
   "id": "intended-inventory",
   "metadata": {},
   "source": [
    "This is a bar graph representing the conditions of all the trees in Pittsburgh. The condition of the vast majority of trees in Pittsburgh neighborhoods is either good or fair. \n",
    "\n",
    "Now, let's look at the good/fair trees in each of the top 10 neighborhoods"
   ]
  },
  {
   "cell_type": "code",
   "execution_count": 202,
   "id": "exclusive-nowhere",
   "metadata": {},
   "outputs": [
    {
     "name": "stdout",
     "output_type": "stream",
     "text": [
      "Number of trees in good condition:  1053\n",
      "Number of trees in fair condition:  634\n",
      "Number of trees in poor condition:  153\n",
      "Number of trees in dead condition:  15\n",
      "Number of trees in cirtical condition:  32\n",
      "Number of trees in very good condition:  24\n",
      "Number of trees in excellent condition:  2\n",
      "Total number of trees:  1913\n"
     ]
    }
   ],
   "source": [
    "# Squirrel Hill South  \n",
    "\n",
    "# Use query masks to get number of trees in each condition and the total number\n",
    "shs_gf = trees.query('neighborhood.str.contains(\"Squirrel Hill South\") and condition.str.contains(\"Good\") and not height.str.contains(\"0\") and not height.str.contains(\"None\")')\n",
    "shs_good = shs_gf.value_counts().size\n",
    "print(\"Number of trees in good condition: \", shs_good)\n",
    "\n",
    "shs_gf = trees.query('neighborhood.str.contains(\"Squirrel Hill South\") and condition.str.contains(\"Fair\") and not height.str.contains(\"0\") and not height.str.contains(\"None\")')\n",
    "shs_fair = shs_gf.value_counts().size\n",
    "print(\"Number of trees in fair condition: \", shs_fair)\n",
    "\n",
    "shs_gf = trees.query('neighborhood.str.contains(\"Squirrel Hill South\") and condition.str.contains(\"Poor\") and not height.str.contains(\"0\") and not height.str.contains(\"None\")')\n",
    "shs_poor = shs_gf.value_counts().size\n",
    "print(\"Number of trees in poor condition: \", shs_poor)\n",
    "\n",
    "shs_gf = trees.query('neighborhood.str.contains(\"Squirrel Hill South\") and condition.str.contains(\"Dead\") and not height.str.contains(\"0\") and not height.str.contains(\"None\")')\n",
    "shs_dead = shs_gf.value_counts().size\n",
    "print(\"Number of trees in dead condition: \", shs_dead)\n",
    "\n",
    "shs_gf = trees.query('neighborhood.str.contains(\"Squirrel Hill South\") and condition.str.contains(\"Critical\") and not height.str.contains(\"0\") and not height.str.contains(\"None\")')\n",
    "shs_cri = shs_gf.value_counts().size\n",
    "print(\"Number of trees in cirtical condition: \", shs_cri)\n",
    "\n",
    "shs_gf = trees.query('neighborhood.str.contains(\"Squirrel Hill South\") and condition.str.contains(\"Very Good\") and not height.str.contains(\"0\") and not height.str.contains(\"None\")')\n",
    "shs_vg = shs_gf.value_counts().size\n",
    "print(\"Number of trees in very good condition: \", shs_vg)\n",
    "      \n",
    "shs_gf = trees.query('neighborhood.str.contains(\"Squirrel Hill South\") and condition.str.contains(\"Excellent\") and not height.str.contains(\"0\") and not height.str.contains(\"None\")')\n",
    "shs_exc = shs_gf.value_counts().size\n",
    "print(\"Number of trees in excellent condition: \", shs_exc)\n",
    "\n",
    "shs_total = shs_good + shs_fair + shs_poor + shs_dead + shs_cri + shs_vg + shs_exc\n",
    "print(\"Total number of trees: \",shs_total)\n"
   ]
  },
  {
   "cell_type": "code",
   "execution_count": 178,
   "id": "wanted-nomination",
   "metadata": {},
   "outputs": [
    {
     "name": "stdout",
     "output_type": "stream",
     "text": [
      "Number of trees in good condition:  389\n",
      "Number of trees in fair condition:  292\n",
      "Number of trees in poor condition:  47\n",
      "Number of trees in dead condition:  6\n",
      "Number of trees in cirtical condition:  8\n",
      "Number of trees in very good condition:  6\n",
      "Number of trees in excellent condition:  5\n",
      "Total number of trees:  753\n"
     ]
    }
   ],
   "source": [
    "# Highland Park    \n",
    "\n",
    "# Use query masks to get number of trees in each condition and the total number\n",
    "hp_gf = trees.query('neighborhood.str.contains(\"Highland Park\") and condition.str.contains(\"Good\") and not height.str.contains(\"0\") and not height.str.contains(\"None\")')\n",
    "hp_good = hp_gf.value_counts().size\n",
    "print(\"Number of trees in good condition: \", hp_good)\n",
    "\n",
    "hp_gf = trees.query('neighborhood.str.contains(\"Highland Park\") and condition.str.contains(\"Fair\") and not height.str.contains(\"0\") and not height.str.contains(\"None\")')\n",
    "hp_fair = hp_gf.value_counts().size\n",
    "print(\"Number of trees in fair condition: \", hp_fair)\n",
    "\n",
    "hp_gf = trees.query('neighborhood.str.contains(\"Highland Park\") and condition.str.contains(\"Poor\") and not height.str.contains(\"0\") and not height.str.contains(\"None\")')\n",
    "hp_poor = hp_gf.value_counts().size\n",
    "print(\"Number of trees in poor condition: \", hp_poor)\n",
    "\n",
    "hp_gf = trees.query('neighborhood.str.contains(\"Highland Park\") and condition.str.contains(\"Dead\") and not height.str.contains(\"0\") and not height.str.contains(\"None\")')\n",
    "hp_dead = hp_gf.value_counts().size\n",
    "print(\"Number of trees in dead condition: \", hp_dead)\n",
    "\n",
    "hp_gf = trees.query('neighborhood.str.contains(\"Highland Park\") and condition.str.contains(\"Critical\") and not height.str.contains(\"0\") and not height.str.contains(\"None\")')\n",
    "hp_cri = hp_gf.value_counts().size\n",
    "print(\"Number of trees in cirtical condition: \", hp_cri)\n",
    "\n",
    "hp_gf = trees.query('neighborhood.str.contains(\"Highland Park\") and condition.str.contains(\"Very Good\") and not height.str.contains(\"0\") and not height.str.contains(\"None\")')\n",
    "hp_vg = hp_gf.value_counts().size\n",
    "print(\"Number of trees in very good condition: \", hp_vg)\n",
    "      \n",
    "hp_gf = trees.query('neighborhood.str.contains(\"Highland Park\") and condition.str.contains(\"Excellent\") and not height.str.contains(\"0\") and not height.str.contains(\"None\")')\n",
    "hp_exc = hp_gf.value_counts().size\n",
    "print(\"Number of trees in excellent condition: \", hp_exc)\n",
    "\n",
    "hp_total = hp_good + hp_fair + hp_poor + hp_dead + hp_cri + hp_vg + hp_exc\n",
    "print(\"Total number of trees: \",hp_total)\n"
   ]
  },
  {
   "cell_type": "code",
   "execution_count": 179,
   "id": "challenging-worth",
   "metadata": {},
   "outputs": [
    {
     "name": "stdout",
     "output_type": "stream",
     "text": [
      "Number of trees in good condition:  406\n",
      "Number of trees in fair condition:  530\n",
      "Number of trees in poor condition:  71\n",
      "Number of trees in dead condition:  2\n",
      "Number of trees in cirtical condition:  5\n",
      "Number of trees in very good condition:  13\n",
      "Number of trees in excellent condition:  1\n",
      "Total number of trees:  1028\n"
     ]
    }
   ],
   "source": [
    "# Squirrel Hill North\n",
    "\n",
    "# Use query masks to get number of trees in each condition and the total number\n",
    "shn_gf = trees.query('neighborhood.str.contains(\"Squirrel Hill North\") and condition.str.contains(\"Good\") and not height.str.contains(\"0\") and not height.str.contains(\"None\")')\n",
    "shn_good = shn_gf.value_counts().size\n",
    "print(\"Number of trees in good condition: \", shn_good)\n",
    "\n",
    "shn_gf = trees.query('neighborhood.str.contains(\"Squirrel Hill North\") and condition.str.contains(\"Fair\") and not height.str.contains(\"0\") and not height.str.contains(\"None\")')\n",
    "shn_fair = shn_gf.value_counts().size\n",
    "print(\"Number of trees in fair condition: \", shn_fair)\n",
    "\n",
    "shn_gf = trees.query('neighborhood.str.contains(\"Squirrel Hill North\") and condition.str.contains(\"Poor\") and not height.str.contains(\"0\") and not height.str.contains(\"None\")')\n",
    "shn_poor = shn_gf.value_counts().size\n",
    "print(\"Number of trees in poor condition: \", shn_poor)\n",
    "\n",
    "shn_gf = trees.query('neighborhood.str.contains(\"Squirrel Hill North\") and condition.str.contains(\"Dead\") and not height.str.contains(\"0\") and not height.str.contains(\"None\")')\n",
    "shn_dead = shn_gf.value_counts().size\n",
    "print(\"Number of trees in dead condition: \", shn_dead)\n",
    "\n",
    "shn_gf = trees.query('neighborhood.str.contains(\"Squirrel Hill North\") and condition.str.contains(\"Critical\") and not height.str.contains(\"0\") and not height.str.contains(\"None\")')\n",
    "shn_cri = shn_gf.value_counts().size\n",
    "print(\"Number of trees in cirtical condition: \", shn_cri)\n",
    "\n",
    "shn_gf = trees.query('neighborhood.str.contains(\"Squirrel Hill North\") and condition.str.contains(\"Very Good\") and not height.str.contains(\"0\") and not height.str.contains(\"None\")')\n",
    "shn_vg = shn_gf.value_counts().size\n",
    "print(\"Number of trees in very good condition: \", shn_vg)\n",
    "      \n",
    "shn_gf = trees.query('neighborhood.str.contains(\"Squirrel Hill North\") and condition.str.contains(\"Excellent\") and not height.str.contains(\"0\") and not height.str.contains(\"None\")')\n",
    "shn_exc = shn_gf.value_counts().size\n",
    "print(\"Number of trees in excellent condition: \", shn_exc)\n",
    "\n",
    "shn_total = shn_good + shn_fair + shn_poor + shn_dead + shn_cri + shn_vg + shn_exc\n",
    "print(\"Total number of trees: \",shn_total)"
   ]
  },
  {
   "cell_type": "code",
   "execution_count": 184,
   "id": "associate-suspect",
   "metadata": {},
   "outputs": [
    {
     "name": "stdout",
     "output_type": "stream",
     "text": [
      "Number of trees in good condition:  5\n",
      "Number of trees in fair condition:  317\n",
      "Number of trees in poor condition:  65\n",
      "Number of trees in dead condition:  21\n",
      "Number of trees in cirtical condition:  28\n",
      "Number of trees in very good condition:  1\n",
      "Number of trees in excellent condition:  4\n",
      "Total number of trees:  441\n"
     ]
    }
   ],
   "source": [
    "# South Side Flats \n",
    "\n",
    "# Use query masks to get number of trees in each condition and the total number\n",
    "ssf_gf = trees.query('neighborhood.str.contains(\"South Side Flats\") and condition.str.contains(\"Good\") and not height.str.contains(\"0\") and not height.str.contains(\"None\")')\n",
    "ssf_good = hp_gf.value_counts().size\n",
    "print(\"Number of trees in good condition: \", ssf_good)\n",
    "\n",
    "ssf_gf = trees.query('neighborhood.str.contains(\"South Side Flats\") and condition.str.contains(\"Fair\") and not height.str.contains(\"0\") and not height.str.contains(\"None\")')\n",
    "ssf_fair = ssf_gf.value_counts().size\n",
    "print(\"Number of trees in fair condition: \", ssf_fair)\n",
    "\n",
    "ssf_gf = trees.query('neighborhood.str.contains(\"South Side Flats\") and condition.str.contains(\"Poor\") and not height.str.contains(\"0\") and not height.str.contains(\"None\")')\n",
    "ssf_poor = ssf_gf.value_counts().size\n",
    "print(\"Number of trees in poor condition: \", ssf_poor)\n",
    "\n",
    "ssf_gf = trees.query('neighborhood.str.contains(\"South Side Flats\") and condition.str.contains(\"Dead\") and not height.str.contains(\"0\") and not height.str.contains(\"None\")')\n",
    "ssf_dead = ssf_gf.value_counts().size\n",
    "print(\"Number of trees in dead condition: \", ssf_dead)\n",
    "\n",
    "ssf_gf = trees.query('neighborhood.str.contains(\"South Side Flats\") and condition.str.contains(\"Critical\") and not height.str.contains(\"0\") and not height.str.contains(\"None\")')\n",
    "ssf_cri = ssf_gf.value_counts().size\n",
    "print(\"Number of trees in cirtical condition: \", ssf_cri)\n",
    "\n",
    "ssf_gf = trees.query('neighborhood.str.contains(\"South Side Flats\") and condition.str.contains(\"Very Good\") and not height.str.contains(\"0\") and not height.str.contains(\"None\")')\n",
    "ssf_vg = ssf_gf.value_counts().size\n",
    "print(\"Number of trees in very good condition: \", ssf_vg)\n",
    "      \n",
    "ssf_gf = trees.query('neighborhood.str.contains(\"South Side Flats\") and condition.str.contains(\"Excellent\") and not height.str.contains(\"0\") and not height.str.contains(\"None\")')\n",
    "ssf_exc = ssf_gf.value_counts().size\n",
    "print(\"Number of trees in excellent condition: \", ssf_exc)\n",
    "\n",
    "ssf_total = ssf_good + ssf_fair + ssf_poor + ssf_dead + ssf_cri + ssf_vg + ssf_exc\n",
    "print(\"Total number of trees: \",ssf_total)"
   ]
  },
  {
   "cell_type": "code",
   "execution_count": 186,
   "id": "photographic-sending",
   "metadata": {},
   "outputs": [
    {
     "name": "stdout",
     "output_type": "stream",
     "text": [
      "Number of trees in good condition:  5\n",
      "Number of trees in fair condition:  472\n",
      "Number of trees in poor condition:  133\n",
      "Number of trees in dead condition:  14\n",
      "Number of trees in cirtical condition:  24\n",
      "Number of trees in very good condition:  2\n",
      "Number of trees in excellent condition:  4\n",
      "Total number of trees:  654\n"
     ]
    }
   ],
   "source": [
    "# Shadyside \n",
    "\n",
    "# Use query masks to get number of trees in each condition and the total number\n",
    "ss_gf = trees.query('neighborhood.str.contains(\"Shadyside\") and condition.str.contains(\"Good\") and not height.str.contains(\"0\") and not height.str.contains(\"None\")')\n",
    "ss_good = hp_gf.value_counts().size\n",
    "print(\"Number of trees in good condition: \", ss_good)\n",
    "\n",
    "ss_gf = trees.query('neighborhood.str.contains(\"Shadyside\") and condition.str.contains(\"Fair\") and not height.str.contains(\"0\") and not height.str.contains(\"None\")')\n",
    "ss_fair = ss_gf.value_counts().size\n",
    "print(\"Number of trees in fair condition: \", ss_fair)\n",
    "\n",
    "ss_gf = trees.query('neighborhood.str.contains(\"Shadyside\") and condition.str.contains(\"Poor\") and not height.str.contains(\"0\") and not height.str.contains(\"None\")')\n",
    "ss_poor = ss_gf.value_counts().size\n",
    "print(\"Number of trees in poor condition: \", ss_poor)\n",
    "\n",
    "ss_gf = trees.query('neighborhood.str.contains(\"Shadyside\") and condition.str.contains(\"Dead\") and not height.str.contains(\"0\") and not height.str.contains(\"None\")')\n",
    "ss_dead = ss_gf.value_counts().size\n",
    "print(\"Number of trees in dead condition: \", ss_dead)\n",
    "\n",
    "ss_gf = trees.query('neighborhood.str.contains(\"Shadyside\") and condition.str.contains(\"Critical\") and not height.str.contains(\"0\") and not height.str.contains(\"None\")')\n",
    "ss_cri = ss_gf.value_counts().size\n",
    "print(\"Number of trees in cirtical condition: \", ss_cri)\n",
    "\n",
    "ss_gf = trees.query('neighborhood.str.contains(\"Shadyside\") and condition.str.contains(\"Very Good\") and not height.str.contains(\"0\") and not height.str.contains(\"None\")')\n",
    "ss_vg = ss_gf.value_counts().size\n",
    "print(\"Number of trees in very good condition: \", ss_vg)\n",
    "      \n",
    "ss_gf = trees.query('neighborhood.str.contains(\"Shadyside\") and condition.str.contains(\"Excellent\") and not height.str.contains(\"0\") and not height.str.contains(\"None\")')\n",
    "ss_exc = ss_gf.value_counts().size\n",
    "print(\"Number of trees in excellent condition: \", ss_exc)\n",
    "\n",
    "ss_total = ss_good + ss_fair + ss_poor + ss_dead + ss_cri + ss_vg + ss_exc\n",
    "print(\"Total number of trees: \",ss_total)"
   ]
  },
  {
   "cell_type": "code",
   "execution_count": 187,
   "id": "collect-first",
   "metadata": {},
   "outputs": [
    {
     "name": "stdout",
     "output_type": "stream",
     "text": [
      "Number of trees in good condition:  5\n",
      "Number of trees in fair condition:  273\n",
      "Number of trees in poor condition:  81\n",
      "Number of trees in dead condition:  17\n",
      "Number of trees in cirtical condition:  16\n",
      "Number of trees in very good condition:  3\n",
      "Number of trees in excellent condition:  1\n",
      "Total number of trees:  396\n"
     ]
    }
   ],
   "source": [
    "# Bloomfield\n",
    "\n",
    "# Use query masks to get number of trees in each condition and the total number\n",
    "bf_gf = trees.query('neighborhood.str.contains(\"Bloomfield\") and condition.str.contains(\"Good\") and not height.str.contains(\"0\") and not height.str.contains(\"None\")')\n",
    "bf_good = hp_gf.value_counts().size\n",
    "print(\"Number of trees in good condition: \", bf_good)\n",
    "\n",
    "bf_gf = trees.query('neighborhood.str.contains(\"Bloomfield\") and condition.str.contains(\"Fair\") and not height.str.contains(\"0\") and not height.str.contains(\"None\")')\n",
    "bf_fair = bf_gf.value_counts().size\n",
    "print(\"Number of trees in fair condition: \", bf_fair)\n",
    "\n",
    "bf_gf = trees.query('neighborhood.str.contains(\"Bloomfield\") and condition.str.contains(\"Poor\") and not height.str.contains(\"0\") and not height.str.contains(\"None\")')\n",
    "bf_poor = bf_gf.value_counts().size\n",
    "print(\"Number of trees in poor condition: \", bf_poor)\n",
    "\n",
    "bf_gf = trees.query('neighborhood.str.contains(\"Bloomfield\") and condition.str.contains(\"Dead\") and not height.str.contains(\"0\") and not height.str.contains(\"None\")')\n",
    "bf_dead = bf_gf.value_counts().size\n",
    "print(\"Number of trees in dead condition: \", bf_dead)\n",
    "\n",
    "bf_gf = trees.query('neighborhood.str.contains(\"Bloomfield\") and condition.str.contains(\"Critical\") and not height.str.contains(\"0\") and not height.str.contains(\"None\")')\n",
    "bf_cri = bf_gf.value_counts().size\n",
    "print(\"Number of trees in cirtical condition: \", bf_cri)\n",
    "\n",
    "bf_gf = trees.query('neighborhood.str.contains(\"Bloomfield\") and condition.str.contains(\"Very Good\") and not height.str.contains(\"0\") and not height.str.contains(\"None\")')\n",
    "bf_vg = bf_gf.value_counts().size\n",
    "print(\"Number of trees in very good condition: \", bf_vg)\n",
    "      \n",
    "bf_gf = trees.query('neighborhood.str.contains(\"Bloomfield\") and condition.str.contains(\"Excellent\") and not height.str.contains(\"0\") and not height.str.contains(\"None\")')\n",
    "bf_exc = bf_gf.value_counts().size\n",
    "print(\"Number of trees in excellent condition: \", bf_exc)\n",
    "\n",
    "bf_total = bf_good + bf_fair + bf_poor + bf_dead + bf_cri + bf_vg + bf_exc\n",
    "print(\"Total number of trees: \",bf_total)"
   ]
  },
  {
   "cell_type": "code",
   "execution_count": 188,
   "id": "injured-bridal",
   "metadata": {},
   "outputs": [
    {
     "name": "stdout",
     "output_type": "stream",
     "text": [
      "Number of trees in good condition:  5\n",
      "Number of trees in fair condition:  491\n",
      "Number of trees in poor condition:  104\n",
      "Number of trees in dead condition:  14\n",
      "Number of trees in cirtical condition:  37\n",
      "Number of trees in very good condition:  10\n",
      "Number of trees in excellent condition:  0\n",
      "Total number of trees:  661\n"
     ]
    }
   ],
   "source": [
    "# East Liberty \n",
    "\n",
    "# Use query masks to get number of trees in each condition and the total number\n",
    "el_gf = trees.query('neighborhood.str.contains(\"East Liberty\") and condition.str.contains(\"Good\") and not height.str.contains(\"0\") and not height.str.contains(\"None\")')\n",
    "el_good = hp_gf.value_counts().size\n",
    "print(\"Number of trees in good condition: \", el_good)\n",
    "\n",
    "el_gf = trees.query('neighborhood.str.contains(\"East Liberty\") and condition.str.contains(\"Fair\") and not height.str.contains(\"0\") and not height.str.contains(\"None\")')\n",
    "el_fair = el_gf.value_counts().size\n",
    "print(\"Number of trees in fair condition: \", el_fair)\n",
    "\n",
    "el_gf = trees.query('neighborhood.str.contains(\"East Liberty\") and condition.str.contains(\"Poor\") and not height.str.contains(\"0\") and not height.str.contains(\"None\")')\n",
    "el_poor = el_gf.value_counts().size\n",
    "print(\"Number of trees in poor condition: \", el_poor)\n",
    "\n",
    "el_gf = trees.query('neighborhood.str.contains(\"East Liberty\") and condition.str.contains(\"Dead\") and not height.str.contains(\"0\") and not height.str.contains(\"None\")')\n",
    "el_dead = el_gf.value_counts().size\n",
    "print(\"Number of trees in dead condition: \", el_dead)\n",
    "\n",
    "el_gf = trees.query('neighborhood.str.contains(\"East Liberty\") and condition.str.contains(\"Critical\") and not height.str.contains(\"0\") and not height.str.contains(\"None\")')\n",
    "el_cri = el_gf.value_counts().size\n",
    "print(\"Number of trees in cirtical condition: \", el_cri)\n",
    "\n",
    "el_gf = trees.query('neighborhood.str.contains(\"East Liberty\") and condition.str.contains(\"Very Good\") and not height.str.contains(\"0\") and not height.str.contains(\"None\")')\n",
    "el_vg = el_gf.value_counts().size\n",
    "print(\"Number of trees in very good condition: \", el_vg)\n",
    "      \n",
    "el_gf = trees.query('neighborhood.str.contains(\"East Liberty\") and condition.str.contains(\"Excellent\") and not height.str.contains(\"0\") and not height.str.contains(\"None\")')\n",
    "el_exc = el_gf.value_counts().size\n",
    "print(\"Number of trees in excellent condition: \", el_exc)\n",
    "\n",
    "el_total = el_good + el_fair + el_poor + el_dead + el_cri + el_vg + el_exc\n",
    "print(\"Total number of trees: \",el_total)"
   ]
  },
  {
   "cell_type": "code",
   "execution_count": 189,
   "id": "human-municipality",
   "metadata": {},
   "outputs": [
    {
     "name": "stdout",
     "output_type": "stream",
     "text": [
      "Number of trees in good condition:  5\n",
      "Number of trees in fair condition:  565\n",
      "Number of trees in poor condition:  101\n",
      "Number of trees in dead condition:  13\n",
      "Number of trees in cirtical condition:  13\n",
      "Number of trees in very good condition:  7\n",
      "Number of trees in excellent condition:  1\n",
      "Total number of trees:  705\n"
     ]
    }
   ],
   "source": [
    "# Point Breeze\n",
    "\n",
    "# Use query masks to get number of trees in each condition and the total number\n",
    "pb_gf = trees.query('neighborhood.str.contains(\"Point Breeze\") and condition.str.contains(\"Good\") and not height.str.contains(\"0\") and not height.str.contains(\"None\")')\n",
    "pb_good = hp_gf.value_counts().size\n",
    "print(\"Number of trees in good condition: \", pb_good)\n",
    "\n",
    "pb_gf = trees.query('neighborhood.str.contains(\"Point Breeze\") and condition.str.contains(\"Fair\") and not height.str.contains(\"0\") and not height.str.contains(\"None\")')\n",
    "pb_fair = pb_gf.value_counts().size\n",
    "print(\"Number of trees in fair condition: \", pb_fair)\n",
    "\n",
    "pb_gf = trees.query('neighborhood.str.contains(\"Point Breeze\") and condition.str.contains(\"Poor\") and not height.str.contains(\"0\") and not height.str.contains(\"None\")')\n",
    "pb_poor = pb_gf.value_counts().size\n",
    "print(\"Number of trees in poor condition: \", pb_poor)\n",
    "\n",
    "pb_gf = trees.query('neighborhood.str.contains(\"Point Breeze\") and condition.str.contains(\"Dead\") and not height.str.contains(\"0\") and not height.str.contains(\"None\")')\n",
    "pb_dead = pb_gf.value_counts().size\n",
    "print(\"Number of trees in dead condition: \", pb_dead)\n",
    "\n",
    "pb_gf = trees.query('neighborhood.str.contains(\"Point Breeze\") and condition.str.contains(\"Critical\") and not height.str.contains(\"0\") and not height.str.contains(\"None\")')\n",
    "pb_cri = pb_gf.value_counts().size\n",
    "print(\"Number of trees in cirtical condition: \", pb_cri)\n",
    "\n",
    "pb_gf = trees.query('neighborhood.str.contains(\"Point Breeze\") and condition.str.contains(\"Very Good\") and not height.str.contains(\"0\") and not height.str.contains(\"None\")')\n",
    "pb_vg = pb_gf.value_counts().size\n",
    "print(\"Number of trees in very good condition: \", pb_vg)\n",
    "      \n",
    "pb_gf = trees.query('neighborhood.str.contains(\"Point Breeze\") and condition.str.contains(\"Excellent\") and not height.str.contains(\"0\") and not height.str.contains(\"None\")')\n",
    "pb_exc = pb_gf.value_counts().size\n",
    "print(\"Number of trees in excellent condition: \", pb_exc)\n",
    "\n",
    "pb_total = pb_good + pb_fair + pb_poor + pb_dead + pb_cri + pb_vg + pb_exc\n",
    "print(\"Total number of trees: \",pb_total)"
   ]
  },
  {
   "cell_type": "code",
   "execution_count": 190,
   "id": "photographic-lighter",
   "metadata": {},
   "outputs": [
    {
     "name": "stdout",
     "output_type": "stream",
     "text": [
      "Number of trees in good condition:  5\n",
      "Number of trees in fair condition:  201\n",
      "Number of trees in poor condition:  20\n",
      "Number of trees in dead condition:  18\n",
      "Number of trees in cirtical condition:  8\n",
      "Number of trees in very good condition:  0\n",
      "Number of trees in excellent condition:  0\n",
      "Total number of trees:  252\n"
     ]
    }
   ],
   "source": [
    "# Perry North\n",
    "\n",
    "# Use query masks to get number of trees in each condition and the total number\n",
    "pn_gf = trees.query('neighborhood.str.contains(\"Perry North\") and condition.str.contains(\"Good\") and not height.str.contains(\"0\") and not height.str.contains(\"None\")')\n",
    "pn_good = hp_gf.value_counts().size\n",
    "print(\"Number of trees in good condition: \", pn_good)\n",
    "\n",
    "pn_gf = trees.query('neighborhood.str.contains(\"Perry North\") and condition.str.contains(\"Fair\") and not height.str.contains(\"0\") and not height.str.contains(\"None\")')\n",
    "pn_fair = pn_gf.value_counts().size\n",
    "print(\"Number of trees in fair condition: \", pn_fair)\n",
    "\n",
    "pn_gf = trees.query('neighborhood.str.contains(\"Perry North\") and condition.str.contains(\"Poor\") and not height.str.contains(\"0\") and not height.str.contains(\"None\")')\n",
    "pn_poor = pn_gf.value_counts().size\n",
    "print(\"Number of trees in poor condition: \", pn_poor)\n",
    "\n",
    "pn_gf = trees.query('neighborhood.str.contains(\"Perry North\") and condition.str.contains(\"Dead\") and not height.str.contains(\"0\") and not height.str.contains(\"None\")')\n",
    "pn_dead = pn_gf.value_counts().size\n",
    "print(\"Number of trees in dead condition: \", pn_dead)\n",
    "\n",
    "pn_gf = trees.query('neighborhood.str.contains(\"Perry North\") and condition.str.contains(\"Critical\") and not height.str.contains(\"0\") and not height.str.contains(\"None\")')\n",
    "pn_cri = pn_gf.value_counts().size\n",
    "print(\"Number of trees in cirtical condition: \", pn_cri)\n",
    "\n",
    "pn_gf = trees.query('neighborhood.str.contains(\"Perry North\") and condition.str.contains(\"Very Good\") and not height.str.contains(\"0\") and not height.str.contains(\"None\")')\n",
    "pn_vg = pn_gf.value_counts().size\n",
    "print(\"Number of trees in very good condition: \", pn_vg)\n",
    "      \n",
    "pn_gf = trees.query('neighborhood.str.contains(\"Perry North\") and condition.str.contains(\"Excellent\") and not height.str.contains(\"0\") and not height.str.contains(\"None\")')\n",
    "pn_exc = pn_gf.value_counts().size\n",
    "print(\"Number of trees in excellent condition: \", pn_exc)\n",
    "\n",
    "pn_total = pn_good + pn_fair + pn_poor + pn_dead + pn_cri + pn_vg + pn_exc\n",
    "print(\"Total number of trees: \",pn_total)"
   ]
  },
  {
   "cell_type": "code",
   "execution_count": 191,
   "id": "operating-cleaners",
   "metadata": {},
   "outputs": [
    {
     "name": "stdout",
     "output_type": "stream",
     "text": [
      "Number of trees in good condition:  5\n",
      "Number of trees in fair condition:  262\n",
      "Number of trees in poor condition:  31\n",
      "Number of trees in dead condition:  66\n",
      "Number of trees in cirtical condition:  39\n",
      "Number of trees in very good condition:  1\n",
      "Number of trees in excellent condition:  0\n",
      "Total number of trees:  404\n"
     ]
    }
   ],
   "source": [
    "# Central Business District\n",
    "\n",
    "# Use query masks to get number of trees in each condition and the total number\n",
    "cbd_gf = trees.query('neighborhood.str.contains(\"Central Business District\") and condition.str.contains(\"Good\") and not height.str.contains(\"0\") and not height.str.contains(\"None\")')\n",
    "cbd_good = hp_gf.value_counts().size\n",
    "print(\"Number of trees in good condition: \", cbd_good)\n",
    "\n",
    "cbd_gf = trees.query('neighborhood.str.contains(\"Central Business District\") and condition.str.contains(\"Fair\") and not height.str.contains(\"0\") and not height.str.contains(\"None\")')\n",
    "cbd_fair = cbd_gf.value_counts().size\n",
    "print(\"Number of trees in fair condition: \", cbd_fair)\n",
    "\n",
    "cbd_gf = trees.query('neighborhood.str.contains(\"Central Business District\") and condition.str.contains(\"Poor\") and not height.str.contains(\"0\") and not height.str.contains(\"None\")')\n",
    "cbd_poor = cbd_gf.value_counts().size\n",
    "print(\"Number of trees in poor condition: \", cbd_poor)\n",
    "\n",
    "cbd_gf = trees.query('neighborhood.str.contains(\"Central Business District\") and condition.str.contains(\"Dead\") and not height.str.contains(\"0\") and not height.str.contains(\"None\")')\n",
    "cbd_dead = cbd_gf.value_counts().size\n",
    "print(\"Number of trees in dead condition: \", cbd_dead)\n",
    "\n",
    "cbd_gf = trees.query('neighborhood.str.contains(\"Central Business District\") and condition.str.contains(\"Critical\") and not height.str.contains(\"0\") and not height.str.contains(\"None\")')\n",
    "cbd_cri = cbd_gf.value_counts().size\n",
    "print(\"Number of trees in cirtical condition: \", cbd_cri)\n",
    "\n",
    "cbd_gf = trees.query('neighborhood.str.contains(\"Central Business District\") and condition.str.contains(\"Very Good\") and not height.str.contains(\"0\") and not height.str.contains(\"None\")')\n",
    "cbd_vg = cbd_gf.value_counts().size\n",
    "print(\"Number of trees in very good condition: \", cbd_vg)\n",
    "      \n",
    "cbd_gf = trees.query('neighborhood.str.contains(\"Central Business District\") and condition.str.contains(\"Excellent\") and not height.str.contains(\"0\") and not height.str.contains(\"None\")')\n",
    "cbd_exc = cbd_gf.value_counts().size\n",
    "print(\"Number of trees in excellent condition: \", cbd_exc)\n",
    "\n",
    "cbd_total = cbd_good + cbd_fair + cbd_poor + cbd_dead + cbd_cri + cbd_vg + cbd_exc\n",
    "print(\"Total number of trees: \",cbd_total)"
   ]
  },
  {
   "cell_type": "code",
   "execution_count": 197,
   "id": "delayed-polls",
   "metadata": {},
   "outputs": [
    {
     "data": {
      "text/plain": [
       "<AxesSubplot:title={'center':'Good and Fair Trees in Top 10 Neighborhoods'}, xlabel='Neighborhood', ylabel='Number of Trees'>"
      ]
     },
     "execution_count": 197,
     "metadata": {},
     "output_type": "execute_result"
    },
    {
     "data": {
      "image/png": "[encoded data removed]",
      "text/plain": [
       "<Figure size 1080x1080 with 1 Axes>"
      ]
     },
     "metadata": {
      "needs_background": "light"
     },
     "output_type": "display_data"
    }
   ],
   "source": [
    "# Categorize the data from above to create a bar chart\n",
    "df2 = pd.DataFrame([(shs_good, shs_fair, shs_poor, shs_dead, shs_cri, shs_vg, shs_exc), \n",
    "                    (hp_good, hp_fair, hp_poor, hp_dead, hp_cri, hp_vg, hp_exc), \n",
    "                    (shn_good, shn_fair, shn_poor, shn_dead, shn_cri, shn_vg, shn_exc), \n",
    "                    (ssf_good, ssf_fair, ssf_poor, ssf_dead, ssf_cri, ssf_vg, ssf_exc),\n",
    "                    (ss_good, ss_fair, ss_poor, ss_dead, ss_cri, ss_vg, ss_exc), \n",
    "                    (bf_good, bf_fair, bf_poor, bf_dead, bf_cri, bf_vg, bf_exc),\n",
    "                    (el_good, el_fair, el_poor, el_dead, el_cri, el_vg, el_exc), \n",
    "                    (pb_good, pb_fair, pb_poor, pb_dead, pb_cri, pb_vg, pb_exc), \n",
    "                    (pn_good, pn_fair, pn_poor, pn_dead, pn_cri, pn_vg, pn_exc), \n",
    "                    (cbd_good, cbd_fair, cbd_poor, cbd_dead, cbd_cri, cbd_vg, cbd_exc)], \n",
    "                   columns=['Good', 'Fair', 'Poor', 'Dead', 'Critical', 'Very Good', 'Excellent'], \n",
    "                   index=[\"Squirrel Hill South\",\"Highland Park\",\"Squirrel Hill North\",\"South Side Flats\",\"Shadyside\", \"Bloomfield\", \"East Liberty\", \"Point Breeze\", \"Perry North\", \"Central Business District\" ])\n",
    "\n",
    "# Plot a bar chart\n",
    "df2.plot(stacked=True, kind=\"bar\", figsize=(15,15), color=['green', 'limegreen', 'orange', 'black', 'red', 'darkgreen','gold'], xlabel=\"Neighborhood\", ylabel=\"Number of Trees\", title=\"Good and Fair Trees in Top 10 Neighborhoods\")"
   ]
  },
  {
   "cell_type": "markdown",
   "id": "awful-destruction",
   "metadata": {},
   "source": [
    "Looking at this bar graph, we can see how about half of all trees in each neghborhood are either in good or fair condition which means the deciding measure in this comparison is the total number of trees in each neighborhood which ultimately places Squirrel Hill South, Squirrel Hill North, and Highland Park as the top 3 best neighborhoods in Pittsburgh."
   ]
  },
  {
   "cell_type": "markdown",
   "id": "front-cargo",
   "metadata": {},
   "source": [
    "Since we cannot simply decide the best neighborhood solely on the amount of trees, let's look at the value these trees offer add to each neighborhood. The dataset provides a wide variety of values added by the trees, but the three I will be focusing on are:\n",
    "\n",
    "    1. Air Quality Benefits (Total Dollar Value)\n",
    "    2. Property Value Benefits (Dollar Value)\n",
    "    3. Stormwater Benefits (Dollar Value)\n",
    "    \n",
    "Good air quality is crucial to our health, trees on property usually mean a garden/backyard space which is good for privacy and leisure, and since it often rains a lot in Pittsburgh, it's important to take the stormwater benefits into consideration"
   ]
  },
  {
   "cell_type": "code",
   "execution_count": 248,
   "id": "prompt-chaos",
   "metadata": {},
   "outputs": [
    {
     "name": "stdout",
     "output_type": "stream",
     "text": [
      "The average dollar value of the air quality benefits provided by the trees in this neighborhood is: $9.48\n",
      "The average dollar value of the property value provided by the trees in this neighborhood is: $58.54\n",
      "The average dollar value of the storm water benefits provided by the trees in this neighborhood is: $13.38\n"
     ]
    }
   ],
   "source": [
    "# Squirrel Hill South  \n",
    "\n",
    "# Use query masks to select the neighborhood and convert the air quality column's data to float\n",
    "shs_benefits = trees.query('neighborhood.str.contains(\"Squirrel Hill South\")')\n",
    "shs_aq = shs_benefits['air_quality_benfits_total_dollar_value'].astype(float).mean()\n",
    "shs_pv = shs_benefits['property_value_benefits_dollarvalue'].astype(float).mean()\n",
    "shs_swb = shs_benefits['stormwater_benefits_dollar_value'].astype(float).mean()\n",
    "\n",
    "# Print the results as formatted currency\n",
    "print(\"The average dollar value of the air quality benefits provided by the trees in this neighborhood is:\", \"${:,.2f}\".format(round(shs_aq,2)))\n",
    "print(\"The average dollar value of the property value provided by the trees in this neighborhood is:\", \"${:,.2f}\".format(round(shs_pv,2)))\n",
    "print(\"The average dollar value of the storm water benefits provided by the trees in this neighborhood is:\", \"${:,.2f}\".format(round(shs_swb,2)))"
   ]
  },
  {
   "cell_type": "code",
   "execution_count": 249,
   "id": "minute-punch",
   "metadata": {},
   "outputs": [
    {
     "name": "stdout",
     "output_type": "stream",
     "text": [
      "The average dollar value of the air quality benefits provided by the trees in this neighborhood is: $10.16\n",
      "The average dollar value of the property value provided by the trees in this neighborhood is: $59.52\n",
      "The average dollar value of the storm water benefits provided by the trees in this neighborhood is: $14.26\n"
     ]
    }
   ],
   "source": [
    "# Highland Park\n",
    "\n",
    "# Use query masks to select the neighborhood and convert the air quality column's data to float\n",
    "hp_benefits = trees.query('neighborhood.str.contains(\"Highland Park\")')\n",
    "hp_aq = hp_benefits['air_quality_benfits_total_dollar_value'].astype(float).mean()\n",
    "hp_pv = hp_benefits['property_value_benefits_dollarvalue'].astype(float).mean()\n",
    "hp_swb = hp_benefits['stormwater_benefits_dollar_value'].astype(float).mean()\n",
    "\n",
    "# Print the results as formatted currency\n",
    "print(\"The average dollar value of the air quality benefits provided by the trees in this neighborhood is:\", \"${:,.2f}\".format(round(hp_aq,2)))\n",
    "print(\"The average dollar value of the property value provided by the trees in this neighborhood is:\", \"${:,.2f}\".format(round(hp_pv,2)))\n",
    "print(\"The average dollar value of the storm water benefits provided by the trees in this neighborhood is:\", \"${:,.2f}\".format(round(hp_swb,2)))"
   ]
  },
  {
   "cell_type": "code",
   "execution_count": 250,
   "id": "tired-professional",
   "metadata": {},
   "outputs": [
    {
     "name": "stdout",
     "output_type": "stream",
     "text": [
      "The average dollar value of the air quality benefits provided by the trees in this neighborhood is: $12.41\n",
      "The average dollar value of the property value provided by the trees in this neighborhood is: $63.29\n",
      "The average dollar value of the storm water benefits provided by the trees in this neighborhood is: $17.84\n"
     ]
    }
   ],
   "source": [
    "# Squirrel Hill North\n",
    "\n",
    "# Use query masks to select the neighborhood and convert the air quality column's data to float\n",
    "shn_benefits = trees.query('neighborhood.str.contains(\"Squirrel Hill North\")')\n",
    "shn_aq = shn_benefits['air_quality_benfits_total_dollar_value'].astype(float).mean()\n",
    "shn_pv = shn_benefits['property_value_benefits_dollarvalue'].astype(float).mean()\n",
    "shn_swb = shn_benefits['stormwater_benefits_dollar_value'].astype(float).mean()\n",
    "\n",
    "# Print the results as formatted currency\n",
    "print(\"The average dollar value of the air quality benefits provided by the trees in this neighborhood is:\", \"${:,.2f}\".format(round(shn_aq,2)))\n",
    "print(\"The average dollar value of the property value provided by the trees in this neighborhood is:\", \"${:,.2f}\".format(round(shn_pv,2)))\n",
    "print(\"The average dollar value of the storm water benefits provided by the trees in this neighborhood is:\", \"${:,.2f}\".format(round(shn_swb,2)))"
   ]
  },
  {
   "cell_type": "code",
   "execution_count": 251,
   "id": "careful-portable",
   "metadata": {},
   "outputs": [
    {
     "name": "stdout",
     "output_type": "stream",
     "text": [
      "The average dollar value of the air quality benefits provided by the trees in this neighborhood is: $3.49\n",
      "The average dollar value of the property value provided by the trees in this neighborhood is: $45.05\n",
      "The average dollar value of the storm water benefits provided by the trees in this neighborhood is: $4.05\n"
     ]
    }
   ],
   "source": [
    "# South Side Flats\n",
    "\n",
    "# Use query masks to select the neighborhood and convert the air quality column's data to float\n",
    "ssf_benefits = trees.query('neighborhood.str.contains(\"South Side Flats\")')\n",
    "ssf_aq = ssf_benefits['air_quality_benfits_total_dollar_value'].astype(float).mean()\n",
    "ssf_pv = ssf_benefits['property_value_benefits_dollarvalue'].astype(float).mean()\n",
    "ssf_swb = ssf_benefits['stormwater_benefits_dollar_value'].astype(float).mean()\n",
    "\n",
    "# Print the results as formatted currency\n",
    "print(\"The average dollar value of the air quality benefits provided by the trees in this neighborhood is:\", \"${:,.2f}\".format(round(ssf_aq,2)))\n",
    "print(\"The average dollar value of the property value provided by the trees in this neighborhood is:\", \"${:,.2f}\".format(round(ssf_pv,2)))\n",
    "print(\"The average dollar value of the storm water benefits provided by the trees in this neighborhood is:\", \"${:,.2f}\".format(round(ssf_swb,2)))"
   ]
  },
  {
   "cell_type": "code",
   "execution_count": 252,
   "id": "peaceful-amber",
   "metadata": {},
   "outputs": [
    {
     "name": "stdout",
     "output_type": "stream",
     "text": [
      "The average dollar value of the air quality benefits provided by the trees in this neighborhood is: $7.50\n",
      "The average dollar value of the property value provided by the trees in this neighborhood is: $57.07\n",
      "The average dollar value of the storm water benefits provided by the trees in this neighborhood is: $10.16\n"
     ]
    }
   ],
   "source": [
    "# Shadyside\n",
    "\n",
    "# Use query masks to select the neighborhood and convert the air quality column's data to float\n",
    "ss_benefits = trees.query('neighborhood.str.contains(\"Shadyside\")')\n",
    "ss_aq = ss_benefits['air_quality_benfits_total_dollar_value'].astype(float).mean()\n",
    "ss_pv = ss_benefits['property_value_benefits_dollarvalue'].astype(float).mean()\n",
    "ss_swb = ss_benefits['stormwater_benefits_dollar_value'].astype(float).mean()\n",
    "\n",
    "# Print the results as formatted currency\n",
    "print(\"The average dollar value of the air quality benefits provided by the trees in this neighborhood is:\", \"${:,.2f}\".format(round(ss_aq,2)))\n",
    "print(\"The average dollar value of the property value provided by the trees in this neighborhood is:\", \"${:,.2f}\".format(round(ss_pv,2)))\n",
    "print(\"The average dollar value of the storm water benefits provided by the trees in this neighborhood is:\", \"${:,.2f}\".format(round(ss_swb,2)))"
   ]
  },
  {
   "cell_type": "code",
   "execution_count": 253,
   "id": "oriented-reporter",
   "metadata": {},
   "outputs": [
    {
     "name": "stdout",
     "output_type": "stream",
     "text": [
      "The average dollar value of the air quality benefits provided by the trees in this neighborhood is: $5.07\n",
      "The average dollar value of the property value provided by the trees in this neighborhood is: $49.17\n",
      "The average dollar value of the storm water benefits provided by the trees in this neighborhood is: $6.38\n"
     ]
    }
   ],
   "source": [
    "# Bloomfield\n",
    "\n",
    "# Use query masks to select the neighborhood and convert the air quality column's data to float\n",
    "bf_benefits = trees.query('neighborhood.str.contains(\"Bloomfield\")')\n",
    "bf_aq = bf_benefits['air_quality_benfits_total_dollar_value'].astype(float).mean()\n",
    "bf_pv = bf_benefits['property_value_benefits_dollarvalue'].astype(float).mean()\n",
    "bf_swb = bf_benefits['stormwater_benefits_dollar_value'].astype(float).mean()\n",
    "\n",
    "# Print the results as formatted currency\n",
    "print(\"The average dollar value of the air quality benefits provided by the trees in this neighborhood is:\", \"${:,.2f}\".format(round(bf_aq,2)))\n",
    "print(\"The average dollar value of the property value provided by the trees in this neighborhood is:\", \"${:,.2f}\".format(round(bf_pv,2)))\n",
    "print(\"The average dollar value of the storm water benefits provided by the trees in this neighborhood is:\", \"${:,.2f}\".format(round(bf_swb,2)))"
   ]
  },
  {
   "cell_type": "code",
   "execution_count": 254,
   "id": "regional-limitation",
   "metadata": {},
   "outputs": [
    {
     "name": "stdout",
     "output_type": "stream",
     "text": [
      "The average dollar value of the air quality benefits provided by the trees in this neighborhood is: $4.08\n",
      "The average dollar value of the property value provided by the trees in this neighborhood is: $43.09\n",
      "The average dollar value of the storm water benefits provided by the trees in this neighborhood is: $5.12\n"
     ]
    }
   ],
   "source": [
    "# East Liberty\n",
    "\n",
    "# Use query masks to select the neighborhood and convert the air quality column's data to float\n",
    "el_benefits = trees.query('neighborhood.str.contains(\"East Liberty\")')\n",
    "el_aq = el_benefits['air_quality_benfits_total_dollar_value'].astype(float).mean()\n",
    "el_pv = el_benefits['property_value_benefits_dollarvalue'].astype(float).mean()\n",
    "el_swb = el_benefits['stormwater_benefits_dollar_value'].astype(float).mean()\n",
    "\n",
    "# Print the results as formatted currency\n",
    "print(\"The average dollar value of the air quality benefits provided by the trees in this neighborhood is:\", \"${:,.2f}\".format(round(el_aq,2)))\n",
    "print(\"The average dollar value of the property value provided by the trees in this neighborhood is:\", \"${:,.2f}\".format(round(el_pv,2)))\n",
    "print(\"The average dollar value of the storm water benefits provided by the trees in this neighborhood is:\", \"${:,.2f}\".format(round(el_swb,2)))"
   ]
  },
  {
   "cell_type": "code",
   "execution_count": 259,
   "id": "transsexual-halloween",
   "metadata": {},
   "outputs": [
    {
     "name": "stdout",
     "output_type": "stream",
     "text": [
      "The average dollar value of the air quality benefits provided by the trees in this neighborhood is: $9.89\n",
      "The average dollar value of the property value provided by the trees in this neighborhood is: $57.06\n",
      "The average dollar value of the storm water benefits provided by the trees in this neighborhood is: $13.85\n"
     ]
    }
   ],
   "source": [
    "# Point Breeze\n",
    "\n",
    "# Use query masks to select the neighborhood and convert the air quality column's data to float\n",
    "pb_benefits = trees.query('neighborhood.str.contains(\"Point Breeze\")')\n",
    "pb_aq = pb_benefits['air_quality_benfits_total_dollar_value'].astype(float).mean()\n",
    "pb_pv = pb_benefits['property_value_benefits_dollarvalue'].astype(float).mean()\n",
    "pb_swb = pb_benefits['stormwater_benefits_dollar_value'].astype(float).mean()\n",
    "\n",
    "# Print the results as formatted currency\n",
    "print(\"The average dollar value of the air quality benefits provided by the trees in this neighborhood is:\", \"${:,.2f}\".format(round(pb_aq,2)))\n",
    "print(\"The average dollar value of the property value provided by the trees in this neighborhood is:\", \"${:,.2f}\".format(round(pb_pv,2)))\n",
    "print(\"The average dollar value of the storm water benefits provided by the trees in this neighborhood is:\", \"${:,.2f}\".format(round(pb_swb,2)))"
   ]
  },
  {
   "cell_type": "code",
   "execution_count": 260,
   "id": "positive-hindu",
   "metadata": {},
   "outputs": [
    {
     "name": "stdout",
     "output_type": "stream",
     "text": [
      "The average dollar value of the air quality benefits provided by the trees in this neighborhood is: $9.26\n",
      "The average dollar value of the property value provided by the trees in this neighborhood is: $60.78\n",
      "The average dollar value of the storm water benefits provided by the trees in this neighborhood is: $13.02\n"
     ]
    }
   ],
   "source": [
    "# Perry North\n",
    "\n",
    "# Use query masks to select the neighborhood and convert the air quality column's data to float\n",
    "pn_benefits = trees.query('neighborhood.str.contains(\"Perry North\")')\n",
    "pn_aq = pn_benefits['air_quality_benfits_total_dollar_value'].astype(float).mean()\n",
    "pn_pv = pn_benefits['property_value_benefits_dollarvalue'].astype(float).mean()\n",
    "pn_swb = pn_benefits['stormwater_benefits_dollar_value'].astype(float).mean()\n",
    "\n",
    "# Print the results as formatted currency\n",
    "print(\"The average dollar value of the air quality benefits provided by the trees in this neighborhood is:\", \"${:,.2f}\".format(round(pn_aq,2)))\n",
    "print(\"The average dollar value of the property value provided by the trees in this neighborhood is:\", \"${:,.2f}\".format(round(pn_pv,2)))\n",
    "print(\"The average dollar value of the storm water benefits provided by the trees in this neighborhood is:\", \"${:,.2f}\".format(round(pn_swb,2)))"
   ]
  },
  {
   "cell_type": "code",
   "execution_count": 261,
   "id": "quality-charm",
   "metadata": {},
   "outputs": [
    {
     "name": "stdout",
     "output_type": "stream",
     "text": [
      "The average dollar value of the air quality benefits provided by the trees in this neighborhood is: $3.42\n",
      "The average dollar value of the property value provided by the trees in this neighborhood is: $56.38\n",
      "The average dollar value of the storm water benefits provided by the trees in this neighborhood is: $3.76\n"
     ]
    }
   ],
   "source": [
    "# Central Business District\n",
    "\n",
    "# Use query masks to select the neighborhood and convert the air quality column's data to float\n",
    "cbd_benefits = trees.query('neighborhood.str.contains(\"Central Business District\")')\n",
    "cbd_aq = cbd_benefits['air_quality_benfits_total_dollar_value'].astype(float).mean()\n",
    "cbd_pv = cbd_benefits['property_value_benefits_dollarvalue'].astype(float).mean()\n",
    "cbd_swb = cbd_benefits['stormwater_benefits_dollar_value'].astype(float).mean()\n",
    "\n",
    "# Print the results as formatted currency\n",
    "print(\"The average dollar value of the air quality benefits provided by the trees in this neighborhood is:\", \"${:,.2f}\".format(round(cbd_aq,2)))\n",
    "print(\"The average dollar value of the property value provided by the trees in this neighborhood is:\", \"${:,.2f}\".format(round(cbd_pv,2)))\n",
    "print(\"The average dollar value of the storm water benefits provided by the trees in this neighborhood is:\", \"${:,.2f}\".format(round(cbd_swb,2)))"
   ]
  },
  {
   "cell_type": "code",
   "execution_count": 265,
   "id": "broad-finger",
   "metadata": {},
   "outputs": [
    {
     "data": {
      "image/png": "[encoded data removed]",
      "text/plain": [
       "<Figure size 1440x1440 with 1 Axes>"
      ]
     },
     "metadata": {
      "needs_background": "light"
     },
     "output_type": "display_data"
    }
   ],
   "source": [
    "import array as arr\n",
    "\n",
    "# Create an array with all the values\n",
    "air_quality = arr.array('f', [shs_aq, hp_aq, shn_aq, ssf_aq, ss_aq, bf_aq, el_aq, pb_aq, pn_aq, cbd_aq])\n",
    "property_value = arr.array('f', [shs_pv, hp_pv, shn_pv, ssf_pv, ss_pv, bf_pv, el_pv, pb_pv, pn_pv, cbd_pv])\n",
    "stormwater_benefits = arr.array('f', [shs_swb, hp_swb, shn_swb, ssf_swb, ss_swb, bf_swb, el_swb, pb_swb, pn_swb, cbd_swb])\n",
    "\n",
    "neighborhoods = \"Squirrel Hill South\", \"Highland Park\", \"Squirrel Hill North\", \"South Side Flats\", \"Shadyside\", \"Bloomfield\", \"East Liberty\", \"Point Breeze\", \"Perry North\", \"Central Business District\"\n",
    "\n",
    "plt.figure(figsize=(20,20))\n",
    "plt.plot(neighborhoods, air_quality, color='red')\n",
    "plt.plot(neighborhoods, property_value, color='green')\n",
    "plt.plot(neighborhoods,stormwater_benefits, color='blue')\n",
    "plt.show()"
   ]
  },
  {
   "cell_type": "code",
   "execution_count": null,
   "id": "addressed-canal",
   "metadata": {},
   "outputs": [],
   "source": []
  }
 ],
 "metadata": {
  "kernelspec": {
   "display_name": "Python 3",
   "language": "python",
   "name": "python3"
  },
  "language_info": {
   "codemirror_mode": {
    "name": "ipython",
    "version": 3
   },
   "file_extension": ".py",
   "mimetype": "text/x-python",
   "name": "python",
   "nbconvert_exporter": "python",
   "pygments_lexer": "ipython3",
   "version": "3.7.7"
  }
 },
 "nbformat": 4,
 "nbformat_minor": 5
}
